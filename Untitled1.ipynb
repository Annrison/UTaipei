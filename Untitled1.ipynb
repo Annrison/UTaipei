{
 "cells": [
  {
   "cell_type": "code",
   "execution_count": 3,
   "metadata": {},
   "outputs": [],
   "source": [
    "import plotly.express as px\n",
    "df = px.data.gapminder().query(\"year == 2007\").query(\"continent == 'Europe'\")\n",
    "df.loc[df['pop'] < 2.e6, 'country'] = 'Other countries' # Represent only large countries"
   ]
  },
  {
   "cell_type": "markdown",
   "metadata": {},
   "source": [
    "read csv file"
   ]
  },
  {
   "cell_type": "code",
   "execution_count": 6,
   "metadata": {},
   "outputs": [],
   "source": [
    "import pandas as pd\n",
    "df = pd.read_csv(\"C:/Users/pecu6/OneDrive/桌面/10802_2020.csv\")"
   ]
  },
  {
   "cell_type": "code",
   "execution_count": 7,
   "metadata": {},
   "outputs": [
    {
     "data": {
      "text/html": [
       "<div>\n",
       "<style scoped>\n",
       "    .dataframe tbody tr th:only-of-type {\n",
       "        vertical-align: middle;\n",
       "    }\n",
       "\n",
       "    .dataframe tbody tr th {\n",
       "        vertical-align: top;\n",
       "    }\n",
       "\n",
       "    .dataframe thead th {\n",
       "        text-align: right;\n",
       "    }\n",
       "</style>\n",
       "<table border=\"1\" class=\"dataframe\">\n",
       "  <thead>\n",
       "    <tr style=\"text-align: right;\">\n",
       "      <th></th>\n",
       "      <th>Date</th>\n",
       "      <th>Page_Name</th>\n",
       "      <th>Page_ID</th>\n",
       "      <th>Link</th>\n",
       "      <th>Type</th>\n",
       "      <th>All_Reaction_Count</th>\n",
       "      <th>LIKE_COUNT</th>\n",
       "      <th>WOW_COUNT</th>\n",
       "      <th>LOVE_COUNT</th>\n",
       "      <th>HAHA_COUNT</th>\n",
       "      <th>SAD_COUNT</th>\n",
       "      <th>ANGRY_COUNT</th>\n",
       "      <th>Comment_Count</th>\n",
       "      <th>Share_Count</th>\n",
       "      <th>Message</th>\n",
       "      <th>Link_Title</th>\n",
       "      <th>Link Description</th>\n",
       "      <th>created_time</th>\n",
       "    </tr>\n",
       "  </thead>\n",
       "  <tbody>\n",
       "    <tr>\n",
       "      <th>0</th>\n",
       "      <td>2020/01/11 20:07:46</td>\n",
       "      <td>台灣基進</td>\n",
       "      <td>348571125292077</td>\n",
       "      <td>NaN</td>\n",
       "      <td>photo</td>\n",
       "      <td>80928</td>\n",
       "      <td>74991</td>\n",
       "      <td>98</td>\n",
       "      <td>3847</td>\n",
       "      <td>1925</td>\n",
       "      <td>34</td>\n",
       "      <td>33</td>\n",
       "      <td>5732</td>\n",
       "      <td>4092</td>\n",
       "      <td>選舉過後，台灣基進不會停歇。\\n　\\n縱使韓國瑜沒有當選，他仍然在高雄破壞著我們的城市，仍會...</td>\n",
       "      <td>NaN</td>\n",
       "      <td>NaN</td>\n",
       "      <td>1578744466000</td>\n",
       "    </tr>\n",
       "    <tr>\n",
       "      <th>1</th>\n",
       "      <td>2020/01/10 23:34:57</td>\n",
       "      <td>台灣基進</td>\n",
       "      <td>348571125292077</td>\n",
       "      <td>NaN</td>\n",
       "      <td>video</td>\n",
       "      <td>56563</td>\n",
       "      <td>54562</td>\n",
       "      <td>18</td>\n",
       "      <td>1680</td>\n",
       "      <td>264</td>\n",
       "      <td>3</td>\n",
       "      <td>36</td>\n",
       "      <td>483</td>\n",
       "      <td>614</td>\n",
       "      <td>謝謝吳念真支持陳柏惟❤️！</td>\n",
       "      <td>NaN</td>\n",
       "      <td>NaN</td>\n",
       "      <td>1578670497000</td>\n",
       "    </tr>\n",
       "    <tr>\n",
       "      <th>2</th>\n",
       "      <td>2020/01/12 01:46:20</td>\n",
       "      <td>台灣基進</td>\n",
       "      <td>348571125292077</td>\n",
       "      <td>NaN</td>\n",
       "      <td>photo</td>\n",
       "      <td>54640</td>\n",
       "      <td>51130</td>\n",
       "      <td>13</td>\n",
       "      <td>3358</td>\n",
       "      <td>31</td>\n",
       "      <td>103</td>\n",
       "      <td>5</td>\n",
       "      <td>1867</td>\n",
       "      <td>669</td>\n",
       "      <td>【 3Q 陳柏惟-勝選感言】\\n\\n謝謝你們，你們做到了。\\n\\n半年前，我來到這邊的時候，...</td>\n",
       "      <td>NaN</td>\n",
       "      <td>NaN</td>\n",
       "      <td>1578764780000</td>\n",
       "    </tr>\n",
       "    <tr>\n",
       "      <th>3</th>\n",
       "      <td>2020/01/11 16:52:23</td>\n",
       "      <td>民主進步黨</td>\n",
       "      <td>150336441057</td>\n",
       "      <td>NaN</td>\n",
       "      <td>video</td>\n",
       "      <td>54703</td>\n",
       "      <td>45865</td>\n",
       "      <td>68</td>\n",
       "      <td>8065</td>\n",
       "      <td>464</td>\n",
       "      <td>45</td>\n",
       "      <td>196</td>\n",
       "      <td>28413</td>\n",
       "      <td>2212</td>\n",
       "      <td>《2020 台灣要贏 LET'S WIN 開票之夜》</td>\n",
       "      <td>2020.01.11 《2020 台灣要贏 LET'S WIN 開票之夜》</td>\n",
       "      <td>NaN</td>\n",
       "      <td>1578732743000</td>\n",
       "    </tr>\n",
       "    <tr>\n",
       "      <th>4</th>\n",
       "      <td>2020/01/08 20:35:23</td>\n",
       "      <td>台灣基進</td>\n",
       "      <td>348571125292077</td>\n",
       "      <td>NaN</td>\n",
       "      <td>video</td>\n",
       "      <td>42724</td>\n",
       "      <td>41209</td>\n",
       "      <td>42</td>\n",
       "      <td>1194</td>\n",
       "      <td>181</td>\n",
       "      <td>23</td>\n",
       "      <td>75</td>\n",
       "      <td>2027</td>\n",
       "      <td>1970</td>\n",
       "      <td>從台灣基進創立以來，高雄一直是我們最溫暖的家鄉。\\n　\\n一路走來，我們從一個小木箱一隻麥克...</td>\n",
       "      <td>讓基進進國會｜陳柏惟</td>\n",
       "      <td>NaN</td>\n",
       "      <td>1578486923000</td>\n",
       "    </tr>\n",
       "  </tbody>\n",
       "</table>\n",
       "</div>"
      ],
      "text/plain": [
       "                  Date Page_Name          Page_ID  Link   Type  \\\n",
       "0  2020/01/11 20:07:46      台灣基進  348571125292077   NaN  photo   \n",
       "1  2020/01/10 23:34:57      台灣基進  348571125292077   NaN  video   \n",
       "2  2020/01/12 01:46:20      台灣基進  348571125292077   NaN  photo   \n",
       "3  2020/01/11 16:52:23     民主進步黨     150336441057   NaN  video   \n",
       "4  2020/01/08 20:35:23      台灣基進  348571125292077   NaN  video   \n",
       "\n",
       "   All_Reaction_Count  LIKE_COUNT  WOW_COUNT  LOVE_COUNT  HAHA_COUNT  \\\n",
       "0               80928       74991         98        3847        1925   \n",
       "1               56563       54562         18        1680         264   \n",
       "2               54640       51130         13        3358          31   \n",
       "3               54703       45865         68        8065         464   \n",
       "4               42724       41209         42        1194         181   \n",
       "\n",
       "   SAD_COUNT  ANGRY_COUNT  Comment_Count  Share_Count  \\\n",
       "0         34           33           5732         4092   \n",
       "1          3           36            483          614   \n",
       "2        103            5           1867          669   \n",
       "3         45          196          28413         2212   \n",
       "4         23           75           2027         1970   \n",
       "\n",
       "                                             Message  \\\n",
       "0  選舉過後，台灣基進不會停歇。\\n　\\n縱使韓國瑜沒有當選，他仍然在高雄破壞著我們的城市，仍會...   \n",
       "1                                      謝謝吳念真支持陳柏惟❤️！   \n",
       "2  【 3Q 陳柏惟-勝選感言】\\n\\n謝謝你們，你們做到了。\\n\\n半年前，我來到這邊的時候，...   \n",
       "3                         《2020 台灣要贏 LET'S WIN 開票之夜》   \n",
       "4  從台灣基進創立以來，高雄一直是我們最溫暖的家鄉。\\n　\\n一路走來，我們從一個小木箱一隻麥克...   \n",
       "\n",
       "                              Link_Title Link Description   created_time  \n",
       "0                                    NaN              NaN  1578744466000  \n",
       "1                                    NaN              NaN  1578670497000  \n",
       "2                                    NaN              NaN  1578764780000  \n",
       "3  2020.01.11 《2020 台灣要贏 LET'S WIN 開票之夜》              NaN  1578732743000  \n",
       "4                             讓基進進國會｜陳柏惟              NaN  1578486923000  "
      ]
     },
     "execution_count": 7,
     "metadata": {},
     "output_type": "execute_result"
    }
   ],
   "source": [
    "df.head()"
   ]
  },
  {
   "cell_type": "code",
   "execution_count": 8,
   "metadata": {},
   "outputs": [],
   "source": [
    "party = df.groupby(\"Page_Name\")"
   ]
  },
  {
   "cell_type": "code",
   "execution_count": 22,
   "metadata": {},
   "outputs": [],
   "source": [
    "p1 = party.get_group(\"台灣基進\")['LIKE_COUNT'].agg('sum')"
   ]
  },
  {
   "cell_type": "code",
   "execution_count": 23,
   "metadata": {},
   "outputs": [],
   "source": [
    "p2 = party.get_group(\"民主進步黨\")['LIKE_COUNT'].agg('sum')"
   ]
  },
  {
   "cell_type": "code",
   "execution_count": 24,
   "metadata": {},
   "outputs": [],
   "source": [
    "p3 = party.get_group(\"中國國民黨 KMT\")['LIKE_COUNT'].agg('sum')"
   ]
  },
  {
   "cell_type": "code",
   "execution_count": 25,
   "metadata": {},
   "outputs": [],
   "source": [
    "p4 = party.get_group(\"台灣民眾黨\")['LIKE_COUNT'].agg('sum')"
   ]
  },
  {
   "cell_type": "code",
   "execution_count": 26,
   "metadata": {},
   "outputs": [],
   "source": [
    "p5 = party.get_group(\"時代力量 New Power Party\")['LIKE_COUNT'].agg('sum')"
   ]
  },
  {
   "cell_type": "code",
   "execution_count": 27,
   "metadata": {},
   "outputs": [],
   "source": [
    "data = {'Name':['台灣基進', '民主進步黨', '中國國民黨 KMT', '台灣民眾黨', '時代力量 New Power Party'],\n",
    "        'LIKE':[p1, p2, p3, p4, p5]}"
   ]
  },
  {
   "cell_type": "code",
   "execution_count": 32,
   "metadata": {},
   "outputs": [],
   "source": [
    "likedata = pd.DataFrame(data)"
   ]
  },
  {
   "cell_type": "code",
   "execution_count": 33,
   "metadata": {},
   "outputs": [
    {
     "data": {
      "text/html": [
       "<div>\n",
       "<style scoped>\n",
       "    .dataframe tbody tr th:only-of-type {\n",
       "        vertical-align: middle;\n",
       "    }\n",
       "\n",
       "    .dataframe tbody tr th {\n",
       "        vertical-align: top;\n",
       "    }\n",
       "\n",
       "    .dataframe thead th {\n",
       "        text-align: right;\n",
       "    }\n",
       "</style>\n",
       "<table border=\"1\" class=\"dataframe\">\n",
       "  <thead>\n",
       "    <tr style=\"text-align: right;\">\n",
       "      <th></th>\n",
       "      <th>Name</th>\n",
       "      <th>LIKE</th>\n",
       "    </tr>\n",
       "  </thead>\n",
       "  <tbody>\n",
       "    <tr>\n",
       "      <th>0</th>\n",
       "      <td>台灣基進</td>\n",
       "      <td>4482995</td>\n",
       "    </tr>\n",
       "    <tr>\n",
       "      <th>1</th>\n",
       "      <td>民主進步黨</td>\n",
       "      <td>3517671</td>\n",
       "    </tr>\n",
       "    <tr>\n",
       "      <th>2</th>\n",
       "      <td>中國國民黨 KMT</td>\n",
       "      <td>1047036</td>\n",
       "    </tr>\n",
       "    <tr>\n",
       "      <th>3</th>\n",
       "      <td>台灣民眾黨</td>\n",
       "      <td>986528</td>\n",
       "    </tr>\n",
       "    <tr>\n",
       "      <th>4</th>\n",
       "      <td>時代力量 New Power Party</td>\n",
       "      <td>987301</td>\n",
       "    </tr>\n",
       "  </tbody>\n",
       "</table>\n",
       "</div>"
      ],
      "text/plain": [
       "                   Name     LIKE\n",
       "0                  台灣基進  4482995\n",
       "1                 民主進步黨  3517671\n",
       "2             中國國民黨 KMT  1047036\n",
       "3                 台灣民眾黨   986528\n",
       "4  時代力量 New Power Party   987301"
      ]
     },
     "execution_count": 33,
     "metadata": {},
     "output_type": "execute_result"
    }
   ],
   "source": [
    "likedata"
   ]
  },
  {
   "cell_type": "code",
   "execution_count": 38,
   "metadata": {},
   "outputs": [
    {
     "data": {
      "text/plain": [
       "<matplotlib.axes._subplots.AxesSubplot at 0x1d382152240>"
      ]
     },
     "execution_count": 38,
     "metadata": {},
     "output_type": "execute_result"
    },
    {
     "data": {
      "image/png": "[encoded data removed]",
      "text/plain": [
       "<Figure size 432x288 with 1 Axes>"
      ]
     },
     "metadata": {
      "needs_background": "light"
     },
     "output_type": "display_data"
    }
   ],
   "source": [
    "likedata.plot.bar(x='Name', y='LIKE')"
   ]
  },
  {
   "cell_type": "code",
   "execution_count": 40,
   "metadata": {},
   "outputs": [
    {
     "data": {
      "text/plain": [
       "'2020/01/11 20:07:46'"
      ]
     },
     "execution_count": 40,
     "metadata": {},
     "output_type": "execute_result"
    }
   ],
   "source": [
    "df['Date'][0]"
   ]
  },
  {
   "cell_type": "code",
   "execution_count": 42,
   "metadata": {},
   "outputs": [
    {
     "data": {
      "text/plain": [
       "['2020', '01', '11 20:07:46']"
      ]
     },
     "execution_count": 42,
     "metadata": {},
     "output_type": "execute_result"
    }
   ],
   "source": [
    "df['Date'][0].split(\"/\")"
   ]
  },
  {
   "cell_type": "code",
   "execution_count": null,
   "metadata": {},
   "outputs": [],
   "source": []
  }
 ],
 "metadata": {
  "kernelspec": {
   "display_name": "Python 3",
   "language": "python",
   "name": "python3"
  },
  "language_info": {
   "codemirror_mode": {
    "name": "ipython",
    "version": 3
   },
   "file_extension": ".py",
   "mimetype": "text/x-python",
   "name": "python",
   "nbconvert_exporter": "python",
   "pygments_lexer": "ipython3",
   "version": "3.7.3"
  }
 },
 "nbformat": 4,
 "nbformat_minor": 2
}
